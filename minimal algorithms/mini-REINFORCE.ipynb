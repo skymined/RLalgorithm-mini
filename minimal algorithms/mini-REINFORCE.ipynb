{
 "cells": [
  {
   "cell_type": "markdown",
   "id": "ff3b061a",
   "metadata": {},
   "source": [
    "- Policy Gradient를 구현해보자~\n",
    "- 카트폴 이용 - OpenAI의 gym"
   ]
  },
  {
   "cell_type": "code",
   "execution_count": 2,
   "id": "45d0a6fc",
   "metadata": {},
   "outputs": [],
   "source": [
    "import gym\n",
    "import torch\n",
    "import torch.nn as nn\n",
    "import torch.nn.functional as F\n",
    "import torch.optim as optim\n",
    "from torch.distributions import Categorical"
   ]
  },
  {
   "cell_type": "markdown",
   "id": "60e7e8a8",
   "metadata": {},
   "source": [
    "### 하이퍼 파라미터 설정"
   ]
  },
  {
   "cell_type": "code",
   "execution_count": 4,
   "id": "89fd60c0",
   "metadata": {},
   "outputs": [],
   "source": [
    "learning_rate = 0.0002 #학습률 : 신경망 파라미터를 얼마나 업데이트할 것인가!\n",
    "gamma = 0.98 # 할인률(Discount Factor)"
   ]
  },
  {
   "cell_type": "markdown",
   "id": "9fbd98bd",
   "metadata": {},
   "source": [
    "### 정책 신경망 정의"
   ]
  },
  {
   "cell_type": "code",
   "execution_count": 5,
   "id": "951c5427",
   "metadata": {},
   "outputs": [
    {
     "name": "stdout",
     "output_type": "stream",
     "text": [
      "Box([-4.8000002e+00 -3.4028235e+38 -4.1887903e-01 -3.4028235e+38], [4.8000002e+00 3.4028235e+38 4.1887903e-01 3.4028235e+38], (4,), float32)\n"
     ]
    }
   ],
   "source": [
    "env = gym.make(\"CartPole-v1\")\n",
    "print(env.observation_space)"
   ]
  },
  {
   "cell_type": "code",
   "execution_count": null,
   "id": "2aed5774",
   "metadata": {},
   "outputs": [],
   "source": [
    "class Policy(nn.Moule):\n",
    "    def __init__(self):\n",
    "        super(Policy, self).__init___()\n",
    "        self.data =[]\n",
    "        self.gamma = 0.99\n",
    "\n",
    "        # 모델 생성 부분\n",
    "        self.fc1 = nn.Linear(4, 128) # 4차원을 받아서 128차원으로 변경\n",
    "        self.fc2 = nn.Linear(128, 2)\n",
    "        self.optimizer = optim.Adam(self.parameters(), lr=learning_rate)\n",
    "    def forward(self, x):\n",
    "        x = F.relu(self.fc1(x))\n",
    "        x = F.softmax(self.fc2(x), dim=0)\n",
    "        return 0\n",
    "    \n",
    "    def put_data(self, item):\n",
    "        self.data.append(item)\n",
    "    \n",
    "    def train(self):\n",
    "        R=0\n",
    "        for r, log_prob in self.data[::-1]:\n",
    "            R = r+R*\n"
   ]
  },
  {
   "cell_type": "markdown",
   "id": "bc35b147",
   "metadata": {},
   "source": [
    "### 메인 실행 함수"
   ]
  },
  {
   "cell_type": "code",
   "execution_count": null,
   "id": "7b1c18c2",
   "metadata": {},
   "outputs": [],
   "source": [
    "def main():\n",
    "    env = gym.make('CartPole-v1')\n",
    "    pi = Policy()\n",
    "    avg_t =0 \n",
    "\n",
    "    for n_epi in range(10000):\n",
    "        obs = env.reset() # 환경의 첫 상태!\n",
    "        for t in range(600): # 한 에피소드 안에서 600 iteration\n",
    "            obs = torch.tensor(obs, dtype=torch.float) # 4차원 벡터!\n",
    "            out = pi(obs)\n",
    "            # sampling을 해야 함\n",
    "            m = Categorical(out) # 확률 분포 모델\n",
    "            action = m.sample() #그 확률에 비례해서 action을 뽑아줌. ex. tensor(0)\n",
    "            obs, r, done, info = env.step(action.item())\n",
    "            pi.put_data((r, torch.log(out[action]))) # policy 안에 데이터를 모아두는 것. 현재의 reward와 그것에 대한 내가 한 action = log\\pi_\\theta(s,ka)\n",
    "            if done : # 다 끝나면 멈춰라!\n",
    "                break\n",
    "        avg_t += t # 여기서의 t는 몇 스텝을 버텼냐!\n",
    "        pi.train() # 에피소드 끝났으니까 policy 학습시켜라\n",
    "        if n_epi%20==0 and n_epi!=0:\n",
    "            print(\"# of episode :{}, Avg timestep : {}\".format(n_epi, avg_t/20.0))\n",
    "            avg_t =0\n",
    "    env.close()"
   ]
  }
 ],
 "metadata": {
  "kernelspec": {
   "display_name": "env",
   "language": "python",
   "name": "python3"
  },
  "language_info": {
   "codemirror_mode": {
    "name": "ipython",
    "version": 3
   },
   "file_extension": ".py",
   "mimetype": "text/x-python",
   "name": "python",
   "nbconvert_exporter": "python",
   "pygments_lexer": "ipython3",
   "version": "3.13.3"
  }
 },
 "nbformat": 4,
 "nbformat_minor": 5
}
